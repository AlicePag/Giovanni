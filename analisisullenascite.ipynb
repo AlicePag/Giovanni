{
 "cells": [
  {
   "cell_type": "code",
   "execution_count": 1,
   "metadata": {},
   "outputs": [
    {
     "data": {
      "text/html": [
       "<div>\n",
       "<style scoped>\n",
       "    .dataframe tbody tr th:only-of-type {\n",
       "        vertical-align: middle;\n",
       "    }\n",
       "\n",
       "    .dataframe tbody tr th {\n",
       "        vertical-align: top;\n",
       "    }\n",
       "\n",
       "    .dataframe thead th {\n",
       "        text-align: right;\n",
       "    }\n",
       "</style>\n",
       "<table border=\"1\" class=\"dataframe\">\n",
       "  <thead>\n",
       "    <tr style=\"text-align: right;\">\n",
       "      <th></th>\n",
       "      <th>momid3</th>\n",
       "      <th>idx</th>\n",
       "      <th>stateres</th>\n",
       "      <th>dmage</th>\n",
       "      <th>dmeduc</th>\n",
       "      <th>dbirwt</th>\n",
       "      <th>smoke</th>\n",
       "      <th>male</th>\n",
       "      <th>year</th>\n",
       "      <th>married</th>\n",
       "      <th>black</th>\n",
       "    </tr>\n",
       "  </thead>\n",
       "  <tbody>\n",
       "    <tr>\n",
       "      <th>0</th>\n",
       "      <td>1120</td>\n",
       "      <td>1</td>\n",
       "      <td>3</td>\n",
       "      <td>29</td>\n",
       "      <td>12</td>\n",
       "      <td>3062</td>\n",
       "      <td>0</td>\n",
       "      <td>0</td>\n",
       "      <td>3</td>\n",
       "      <td>1</td>\n",
       "      <td>0</td>\n",
       "    </tr>\n",
       "    <tr>\n",
       "      <th>1</th>\n",
       "      <td>1120</td>\n",
       "      <td>2</td>\n",
       "      <td>3</td>\n",
       "      <td>30</td>\n",
       "      <td>12</td>\n",
       "      <td>3317</td>\n",
       "      <td>1</td>\n",
       "      <td>1</td>\n",
       "      <td>4</td>\n",
       "      <td>1</td>\n",
       "      <td>0</td>\n",
       "    </tr>\n",
       "    <tr>\n",
       "      <th>2</th>\n",
       "      <td>1121</td>\n",
       "      <td>1</td>\n",
       "      <td>3</td>\n",
       "      <td>29</td>\n",
       "      <td>16</td>\n",
       "      <td>4026</td>\n",
       "      <td>0</td>\n",
       "      <td>1</td>\n",
       "      <td>3</td>\n",
       "      <td>1</td>\n",
       "      <td>0</td>\n",
       "    </tr>\n",
       "    <tr>\n",
       "      <th>3</th>\n",
       "      <td>1121</td>\n",
       "      <td>2</td>\n",
       "      <td>3</td>\n",
       "      <td>33</td>\n",
       "      <td>16</td>\n",
       "      <td>3657</td>\n",
       "      <td>0</td>\n",
       "      <td>1</td>\n",
       "      <td>8</td>\n",
       "      <td>1</td>\n",
       "      <td>0</td>\n",
       "    </tr>\n",
       "    <tr>\n",
       "      <th>4</th>\n",
       "      <td>1122</td>\n",
       "      <td>1</td>\n",
       "      <td>3</td>\n",
       "      <td>31</td>\n",
       "      <td>14</td>\n",
       "      <td>3260</td>\n",
       "      <td>0</td>\n",
       "      <td>0</td>\n",
       "      <td>1</td>\n",
       "      <td>1</td>\n",
       "      <td>0</td>\n",
       "    </tr>\n",
       "    <tr>\n",
       "      <th>...</th>\n",
       "      <td>...</td>\n",
       "      <td>...</td>\n",
       "      <td>...</td>\n",
       "      <td>...</td>\n",
       "      <td>...</td>\n",
       "      <td>...</td>\n",
       "      <td>...</td>\n",
       "      <td>...</td>\n",
       "      <td>...</td>\n",
       "      <td>...</td>\n",
       "      <td>...</td>\n",
       "    </tr>\n",
       "    <tr>\n",
       "      <th>13149</th>\n",
       "      <td>141805</td>\n",
       "      <td>2</td>\n",
       "      <td>48</td>\n",
       "      <td>21</td>\n",
       "      <td>12</td>\n",
       "      <td>3770</td>\n",
       "      <td>0</td>\n",
       "      <td>1</td>\n",
       "      <td>8</td>\n",
       "      <td>1</td>\n",
       "      <td>0</td>\n",
       "    </tr>\n",
       "    <tr>\n",
       "      <th>13150</th>\n",
       "      <td>141806</td>\n",
       "      <td>1</td>\n",
       "      <td>48</td>\n",
       "      <td>35</td>\n",
       "      <td>14</td>\n",
       "      <td>3770</td>\n",
       "      <td>0</td>\n",
       "      <td>1</td>\n",
       "      <td>7</td>\n",
       "      <td>1</td>\n",
       "      <td>0</td>\n",
       "    </tr>\n",
       "    <tr>\n",
       "      <th>13151</th>\n",
       "      <td>141806</td>\n",
       "      <td>2</td>\n",
       "      <td>48</td>\n",
       "      <td>36</td>\n",
       "      <td>14</td>\n",
       "      <td>3745</td>\n",
       "      <td>0</td>\n",
       "      <td>1</td>\n",
       "      <td>8</td>\n",
       "      <td>1</td>\n",
       "      <td>0</td>\n",
       "    </tr>\n",
       "    <tr>\n",
       "      <th>13152</th>\n",
       "      <td>141807</td>\n",
       "      <td>1</td>\n",
       "      <td>48</td>\n",
       "      <td>26</td>\n",
       "      <td>11</td>\n",
       "      <td>4281</td>\n",
       "      <td>1</td>\n",
       "      <td>1</td>\n",
       "      <td>7</td>\n",
       "      <td>0</td>\n",
       "      <td>0</td>\n",
       "    </tr>\n",
       "    <tr>\n",
       "      <th>13153</th>\n",
       "      <td>141807</td>\n",
       "      <td>2</td>\n",
       "      <td>48</td>\n",
       "      <td>27</td>\n",
       "      <td>11</td>\n",
       "      <td>3175</td>\n",
       "      <td>1</td>\n",
       "      <td>0</td>\n",
       "      <td>8</td>\n",
       "      <td>0</td>\n",
       "      <td>0</td>\n",
       "    </tr>\n",
       "  </tbody>\n",
       "</table>\n",
       "<p>13154 rows × 11 columns</p>\n",
       "</div>"
      ],
      "text/plain": [
       "       momid3  idx  stateres  dmage  dmeduc  dbirwt  smoke  male  year  \\\n",
       "0        1120    1         3     29      12    3062      0     0     3   \n",
       "1        1120    2         3     30      12    3317      1     1     4   \n",
       "2        1121    1         3     29      16    4026      0     1     3   \n",
       "3        1121    2         3     33      16    3657      0     1     8   \n",
       "4        1122    1         3     31      14    3260      0     0     1   \n",
       "...       ...  ...       ...    ...     ...     ...    ...   ...   ...   \n",
       "13149  141805    2        48     21      12    3770      0     1     8   \n",
       "13150  141806    1        48     35      14    3770      0     1     7   \n",
       "13151  141806    2        48     36      14    3745      0     1     8   \n",
       "13152  141807    1        48     26      11    4281      1     1     7   \n",
       "13153  141807    2        48     27      11    3175      1     0     8   \n",
       "\n",
       "       married  black  \n",
       "0            1      0  \n",
       "1            1      0  \n",
       "2            1      0  \n",
       "3            1      0  \n",
       "4            1      0  \n",
       "...        ...    ...  \n",
       "13149        1      0  \n",
       "13150        1      0  \n",
       "13151        1      0  \n",
       "13152        0      0  \n",
       "13153        0      0  \n",
       "\n",
       "[13154 rows x 11 columns]"
      ]
     },
     "execution_count": 1,
     "metadata": {},
     "output_type": "execute_result"
    }
   ],
   "source": [
    "import pandas\n",
    "import numpy\n",
    "d = pandas.read_table(\"data.csv\", sep=\",\")\n",
    "d"
   ]
  },
  {
   "cell_type": "code",
   "execution_count": 2,
   "metadata": {},
   "outputs": [
    {
     "data": {
      "text/plain": [
       "array(['momid3', 'idx', 'stateres', 'dmage', 'dmeduc', 'dbirwt', 'smoke',\n",
       "       'male', 'year', 'married', 'black'], dtype=object)"
      ]
     },
     "execution_count": 2,
     "metadata": {},
     "output_type": "execute_result"
    }
   ],
   "source": [
    "d.columns.values"
   ]
  },
  {
   "cell_type": "code",
   "execution_count": 3,
   "metadata": {},
   "outputs": [],
   "source": [
    "d2= d.copy()\n",
    "d2=d2[['momid3','dmage','dbirwt','smoke','male','year']]"
   ]
  },
  {
   "cell_type": "code",
   "execution_count": 5,
   "metadata": {},
   "outputs": [
    {
     "data": {
      "text/plain": [
       "6372"
      ]
     },
     "execution_count": 5,
     "metadata": {},
     "output_type": "execute_result"
    }
   ],
   "source": [
    "len(pandas.unique(d2.momid3))"
   ]
  },
  {
   "cell_type": "code",
   "execution_count": 14,
   "metadata": {},
   "outputs": [
    {
     "data": {
      "text/plain": [
       "2    5962\n",
       "3     410\n",
       "Name: momid3, dtype: int64"
      ]
     },
     "execution_count": 14,
     "metadata": {},
     "output_type": "execute_result"
    }
   ],
   "source": [
    "m = d2.momid3.value_counts().value_counts()\n",
    "m"
   ]
  },
  {
   "cell_type": "code",
   "execution_count": 15,
   "metadata": {},
   "outputs": [
    {
     "data": {
      "text/plain": [
       "Text(0.5, 1.0, 'Grafico a torta numero di figli per madre')"
      ]
     },
     "execution_count": 15,
     "metadata": {},
     "output_type": "execute_result"
    },
    {
     "data": {
      "image/png": "[encoded data removed]",
      "text/plain": [
       "<Figure size 432x288 with 1 Axes>"
      ]
     },
     "metadata": {},
     "output_type": "display_data"
    }
   ],
   "source": [
    "import matplotlib.pyplot as plt\n",
    "plt.pie(m,labels =['2','3'])  # grafico a torta\n",
    "plt.title('Grafico a torta numero di figli per madre')"
   ]
  },
  {
   "cell_type": "code",
   "execution_count": 6,
   "metadata": {},
   "outputs": [
    {
     "data": {
      "text/plain": [
       "1994    1960\n",
       "1995    1935\n",
       "1993    1889\n",
       "1992    1799\n",
       "1996    1795\n",
       "1997    1363\n",
       "1998     962\n",
       "1991     861\n",
       "1990     590\n",
       "Name: anno, dtype: int64"
      ]
     },
     "execution_count": 6,
     "metadata": {},
     "output_type": "execute_result"
    }
   ],
   "source": [
    "anni={0:1990,1:1991,2:1992,3:1993,4:1994,5:1995,6:1996,7:1997,8:1998}\n",
    "d2['anno'] = d2['year'].map(anni)\n",
    "d2.anno.value_counts()"
   ]
  },
  {
   "cell_type": "code",
   "execution_count": 22,
   "metadata": {},
   "outputs": [
    {
     "data": {
      "text/plain": [
       "Text(0.5, 1.0, 'Istogramma degli anni nascita')"
      ]
     },
     "execution_count": 22,
     "metadata": {},
     "output_type": "execute_result"
    },
    {
     "data": {
      "image/png": "[encoded data removed]",
      "text/plain": [
       "<Figure size 432x288 with 1 Axes>"
      ]
     },
     "metadata": {
      "needs_background": "light"
     },
     "output_type": "display_data"
    }
   ],
   "source": [
    "plt.hist(d2.anno, bins=9) # istogramma\n",
    "plt.xlabel('Anno di nascita')\n",
    "plt.title('Istogramma degli anni nascita')"
   ]
  },
  {
   "cell_type": "code",
   "execution_count": 24,
   "metadata": {},
   "outputs": [
    {
     "data": {
      "text/plain": [
       "Text(0.5, 1.0, 'Boxplot degli anni nascita')"
      ]
     },
     "execution_count": 24,
     "metadata": {},
     "output_type": "execute_result"
    },
    {
     "data": {
      "image/png": "[encoded data removed]",
      "text/plain": [
       "<Figure size 432x288 with 1 Axes>"
      ]
     },
     "metadata": {
      "needs_background": "light"
     },
     "output_type": "display_data"
    }
   ],
   "source": [
    "plt.boxplot(d2.anno, vert=False) # boxplot\n",
    "plt.xlabel('Anno di nascita')\n",
    "plt.title('Boxplot degli anni nascita')"
   ]
  },
  {
   "cell_type": "code",
   "execution_count": 7,
   "metadata": {},
   "outputs": [
    {
     "data": {
      "text/plain": [
       "0    11445\n",
       "1     1709\n",
       "Name: smoke, dtype: int64"
      ]
     },
     "execution_count": 7,
     "metadata": {},
     "output_type": "execute_result"
    }
   ],
   "source": [
    "d2.smoke.value_counts()"
   ]
  },
  {
   "cell_type": "code",
   "execution_count": 20,
   "metadata": {},
   "outputs": [
    {
     "data": {
      "text/plain": [
       "Text(0.5, 1.0, 'Grafico a torta stato fumo della madre')"
      ]
     },
     "execution_count": 20,
     "metadata": {},
     "output_type": "execute_result"
    },
    {
     "data": {
      "image/png": "[encoded data removed]",
      "text/plain": [
       "<Figure size 432x288 with 1 Axes>"
      ]
     },
     "metadata": {},
     "output_type": "display_data"
    }
   ],
   "source": [
    "ff=numpy.bincount(d2.smoke)\n",
    "plt.pie(ff,labels =['non fumatrice','fumatrice']) # grafico a torta\n",
    "plt.title('Grafico a torta stato fumo della madre')"
   ]
  },
  {
   "cell_type": "code",
   "execution_count": 8,
   "metadata": {},
   "outputs": [
    {
     "data": {
      "text/plain": [
       "1    6715\n",
       "0    6439\n",
       "Name: male, dtype: int64"
      ]
     },
     "execution_count": 8,
     "metadata": {},
     "output_type": "execute_result"
    }
   ],
   "source": [
    "d2.male.value_counts()"
   ]
  },
  {
   "cell_type": "code",
   "execution_count": 21,
   "metadata": {},
   "outputs": [
    {
     "data": {
      "text/plain": [
       "Text(0.5, 1.0, 'Grafico a torta del genere alla nascita')"
      ]
     },
     "execution_count": 21,
     "metadata": {},
     "output_type": "execute_result"
    },
    {
     "data": {
      "image/png": "[encoded data removed]",
      "text/plain": [
       "<Figure size 432x288 with 1 Axes>"
      ]
     },
     "metadata": {},
     "output_type": "display_data"
    }
   ],
   "source": [
    "fg=numpy.bincount(d2.male)\n",
    "plt.pie(fg,labels =['femmina','maschio']) # grafico a torta\n",
    "plt.title('Grafico a torta del genere alla nascita')"
   ]
  },
  {
   "cell_type": "code",
   "execution_count": 16,
   "metadata": {},
   "outputs": [
    {
     "data": {
      "text/plain": [
       "Text(0.5, 1.0, 'Istogramma età della madre')"
      ]
     },
     "execution_count": 16,
     "metadata": {},
     "output_type": "execute_result"
    },
    {
     "data": {
      "image/png": "[encoded data removed]",
      "text/plain": [
       "<Figure size 432x288 with 1 Axes>"
      ]
     },
     "metadata": {
      "needs_background": "light"
     },
     "output_type": "display_data"
    }
   ],
   "source": [
    "plt.hist(d2.dmage) # istogramma\n",
    "plt.xlabel('età della madre')\n",
    "plt.title('Istogramma età della madre')"
   ]
  },
  {
   "cell_type": "code",
   "execution_count": 17,
   "metadata": {},
   "outputs": [
    {
     "data": {
      "text/plain": [
       "Text(0.5, 1.0, 'Boxplot età della madre')"
      ]
     },
     "execution_count": 17,
     "metadata": {},
     "output_type": "execute_result"
    },
    {
     "data": {
      "image/png": "[encoded data removed]",
      "text/plain": [
       "<Figure size 432x288 with 1 Axes>"
      ]
     },
     "metadata": {
      "needs_background": "light"
     },
     "output_type": "display_data"
    }
   ],
   "source": [
    "plt.boxplot(d2.dmage, vert=False) # boxplot\n",
    "plt.xlabel('Età della madre')\n",
    "plt.title('Boxplot età della madre')"
   ]
  },
  {
   "cell_type": "code",
   "execution_count": 18,
   "metadata": {},
   "outputs": [
    {
     "data": {
      "text/plain": [
       "Text(0.5, 1.0, 'Istogramma del peso alla nascita')"
      ]
     },
     "execution_count": 18,
     "metadata": {},
     "output_type": "execute_result"
    },
    {
     "data": {
      "image/png": "[encoded data removed]",
      "text/plain": [
       "<Figure size 432x288 with 1 Axes>"
      ]
     },
     "metadata": {
      "needs_background": "light"
     },
     "output_type": "display_data"
    }
   ],
   "source": [
    "plt.hist(d2.dbirwt) # istogramma\n",
    "plt.xlabel('Peso in grammi')\n",
    "plt.title('Istogramma del peso alla nascita')"
   ]
  },
  {
   "cell_type": "code",
   "execution_count": 19,
   "metadata": {},
   "outputs": [
    {
     "data": {
      "text/plain": [
       "Text(0.5, 1.0, 'Boxplot del peso alla nascita')"
      ]
     },
     "execution_count": 19,
     "metadata": {},
     "output_type": "execute_result"
    },
    {
     "data": {
      "image/png": "[encoded data removed]",
      "text/plain": [
       "<Figure size 432x288 with 1 Axes>"
      ]
     },
     "metadata": {
      "needs_background": "light"
     },
     "output_type": "display_data"
    }
   ],
   "source": [
    "plt.boxplot(d2.dbirwt, vert=False) # boxplot\n",
    "plt.xlabel('Peso in grammi')\n",
    "plt.title('Boxplot del peso alla nascita')"
   ]
  },
  {
   "cell_type": "code",
   "execution_count": null,
   "metadata": {},
   "outputs": [],
   "source": []
  },
  {
   "cell_type": "code",
   "execution_count": 30,
   "metadata": {},
   "outputs": [],
   "source": [
    "d2['anomalia']\n",
    "d2.anomalia[(d2.dbirwt <= 2500) | (d2.dbirwt >= 4500)] = 1\n",
    "d2.anomalia[(d2.dbirwt > 2500) & (d2.dbirwt < 4500)] = 0"
   ]
  },
  {
   "cell_type": "code",
   "execution_count": 31,
   "metadata": {},
   "outputs": [
    {
     "data": {
      "text/plain": [
       "0    12373\n",
       "1      781\n",
       "Name: anomalia, dtype: int64"
      ]
     },
     "execution_count": 31,
     "metadata": {},
     "output_type": "execute_result"
    }
   ],
   "source": [
    "d2.anomalia.value_counts()"
   ]
  },
  {
   "cell_type": "code",
   "execution_count": 33,
   "metadata": {},
   "outputs": [
    {
     "data": {
      "text/plain": [
       "Text(0.5, 1.0, 'Grafico a torta del peso alla nascita')"
      ]
     },
     "execution_count": 33,
     "metadata": {},
     "output_type": "execute_result"
    },
    {
     "data": {
      "image/png": "[encoded data removed]",
      "text/plain": [
       "<Figure size 432x288 with 1 Axes>"
      ]
     },
     "metadata": {},
     "output_type": "display_data"
    }
   ],
   "source": [
    "fa=numpy.bincount(d2.anomalia)\n",
    "plt.pie(fa,labels =['regolare','anamalo']) # grafico a torta\n",
    "plt.title('Grafico a torta del peso alla nascita')"
   ]
  },
  {
   "cell_type": "code",
   "execution_count": 34,
   "metadata": {},
   "outputs": [
    {
     "data": {
      "text/html": [
       "<div>\n",
       "<style scoped>\n",
       "    .dataframe tbody tr th:only-of-type {\n",
       "        vertical-align: middle;\n",
       "    }\n",
       "\n",
       "    .dataframe tbody tr th {\n",
       "        vertical-align: top;\n",
       "    }\n",
       "\n",
       "    .dataframe thead th {\n",
       "        text-align: right;\n",
       "    }\n",
       "</style>\n",
       "<table border=\"1\" class=\"dataframe\">\n",
       "  <thead>\n",
       "    <tr style=\"text-align: right;\">\n",
       "      <th></th>\n",
       "      <th>momid3</th>\n",
       "      <th>dmage</th>\n",
       "      <th>dbirwt</th>\n",
       "      <th>smoke</th>\n",
       "      <th>male</th>\n",
       "      <th>year</th>\n",
       "      <th>anno</th>\n",
       "      <th>anomalia</th>\n",
       "    </tr>\n",
       "  </thead>\n",
       "  <tbody>\n",
       "    <tr>\n",
       "      <th>0</th>\n",
       "      <td>1120</td>\n",
       "      <td>29</td>\n",
       "      <td>3062</td>\n",
       "      <td>0</td>\n",
       "      <td>0</td>\n",
       "      <td>3</td>\n",
       "      <td>1993</td>\n",
       "      <td>0</td>\n",
       "    </tr>\n",
       "    <tr>\n",
       "      <th>1</th>\n",
       "      <td>1120</td>\n",
       "      <td>30</td>\n",
       "      <td>3317</td>\n",
       "      <td>1</td>\n",
       "      <td>1</td>\n",
       "      <td>4</td>\n",
       "      <td>1994</td>\n",
       "      <td>0</td>\n",
       "    </tr>\n",
       "    <tr>\n",
       "      <th>2</th>\n",
       "      <td>1121</td>\n",
       "      <td>29</td>\n",
       "      <td>4026</td>\n",
       "      <td>0</td>\n",
       "      <td>1</td>\n",
       "      <td>3</td>\n",
       "      <td>1993</td>\n",
       "      <td>0</td>\n",
       "    </tr>\n",
       "    <tr>\n",
       "      <th>3</th>\n",
       "      <td>1121</td>\n",
       "      <td>33</td>\n",
       "      <td>3657</td>\n",
       "      <td>0</td>\n",
       "      <td>1</td>\n",
       "      <td>8</td>\n",
       "      <td>1998</td>\n",
       "      <td>0</td>\n",
       "    </tr>\n",
       "    <tr>\n",
       "      <th>4</th>\n",
       "      <td>1122</td>\n",
       "      <td>31</td>\n",
       "      <td>3260</td>\n",
       "      <td>0</td>\n",
       "      <td>0</td>\n",
       "      <td>1</td>\n",
       "      <td>1991</td>\n",
       "      <td>0</td>\n",
       "    </tr>\n",
       "    <tr>\n",
       "      <th>...</th>\n",
       "      <td>...</td>\n",
       "      <td>...</td>\n",
       "      <td>...</td>\n",
       "      <td>...</td>\n",
       "      <td>...</td>\n",
       "      <td>...</td>\n",
       "      <td>...</td>\n",
       "      <td>...</td>\n",
       "    </tr>\n",
       "    <tr>\n",
       "      <th>13149</th>\n",
       "      <td>141805</td>\n",
       "      <td>21</td>\n",
       "      <td>3770</td>\n",
       "      <td>0</td>\n",
       "      <td>1</td>\n",
       "      <td>8</td>\n",
       "      <td>1998</td>\n",
       "      <td>0</td>\n",
       "    </tr>\n",
       "    <tr>\n",
       "      <th>13150</th>\n",
       "      <td>141806</td>\n",
       "      <td>35</td>\n",
       "      <td>3770</td>\n",
       "      <td>0</td>\n",
       "      <td>1</td>\n",
       "      <td>7</td>\n",
       "      <td>1997</td>\n",
       "      <td>0</td>\n",
       "    </tr>\n",
       "    <tr>\n",
       "      <th>13151</th>\n",
       "      <td>141806</td>\n",
       "      <td>36</td>\n",
       "      <td>3745</td>\n",
       "      <td>0</td>\n",
       "      <td>1</td>\n",
       "      <td>8</td>\n",
       "      <td>1998</td>\n",
       "      <td>0</td>\n",
       "    </tr>\n",
       "    <tr>\n",
       "      <th>13152</th>\n",
       "      <td>141807</td>\n",
       "      <td>26</td>\n",
       "      <td>4281</td>\n",
       "      <td>1</td>\n",
       "      <td>1</td>\n",
       "      <td>7</td>\n",
       "      <td>1997</td>\n",
       "      <td>0</td>\n",
       "    </tr>\n",
       "    <tr>\n",
       "      <th>13153</th>\n",
       "      <td>141807</td>\n",
       "      <td>27</td>\n",
       "      <td>3175</td>\n",
       "      <td>1</td>\n",
       "      <td>0</td>\n",
       "      <td>8</td>\n",
       "      <td>1998</td>\n",
       "      <td>0</td>\n",
       "    </tr>\n",
       "  </tbody>\n",
       "</table>\n",
       "<p>13154 rows × 8 columns</p>\n",
       "</div>"
      ],
      "text/plain": [
       "       momid3  dmage  dbirwt  smoke  male  year  anno  anomalia\n",
       "0        1120     29    3062      0     0     3  1993         0\n",
       "1        1120     30    3317      1     1     4  1994         0\n",
       "2        1121     29    4026      0     1     3  1993         0\n",
       "3        1121     33    3657      0     1     8  1998         0\n",
       "4        1122     31    3260      0     0     1  1991         0\n",
       "...       ...    ...     ...    ...   ...   ...   ...       ...\n",
       "13149  141805     21    3770      0     1     8  1998         0\n",
       "13150  141806     35    3770      0     1     7  1997         0\n",
       "13151  141806     36    3745      0     1     8  1998         0\n",
       "13152  141807     26    4281      1     1     7  1997         0\n",
       "13153  141807     27    3175      1     0     8  1998         0\n",
       "\n",
       "[13154 rows x 8 columns]"
      ]
     },
     "execution_count": 34,
     "metadata": {},
     "output_type": "execute_result"
    }
   ],
   "source": [
    "d2"
   ]
  },
  {
   "cell_type": "code",
   "execution_count": 35,
   "metadata": {},
   "outputs": [
    {
     "name": "stdout",
     "output_type": "stream",
     "text": [
      "Optimization terminated successfully.\n",
      "         Current function value: 0.224508\n",
      "         Iterations 8\n"
     ]
    },
    {
     "data": {
      "text/html": [
       "<table class=\"simpletable\">\n",
       "<caption>Logit Regression Results</caption>\n",
       "<tr>\n",
       "  <th>Dep. Variable:</th>       <td>anomalia</td>     <th>  No. Observations:  </th>  <td> 13154</td>  \n",
       "</tr>\n",
       "<tr>\n",
       "  <th>Model:</th>                 <td>Logit</td>      <th>  Df Residuals:      </th>  <td> 13149</td>  \n",
       "</tr>\n",
       "<tr>\n",
       "  <th>Method:</th>                 <td>MLE</td>       <th>  Df Model:          </th>  <td>     4</td>  \n",
       "</tr>\n",
       "<tr>\n",
       "  <th>Date:</th>            <td>Mon, 22 Feb 2021</td> <th>  Pseudo R-squ.:     </th> <td>0.003252</td> \n",
       "</tr>\n",
       "<tr>\n",
       "  <th>Time:</th>                <td>10:00:16</td>     <th>  Log-Likelihood:    </th> <td> -2953.2</td> \n",
       "</tr>\n",
       "<tr>\n",
       "  <th>converged:</th>             <td>True</td>       <th>  LL-Null:           </th> <td> -2962.8</td> \n",
       "</tr>\n",
       "<tr>\n",
       "  <th>Covariance Type:</th>     <td>nonrobust</td>    <th>  LLR p-value:       </th> <td>0.0006962</td>\n",
       "</tr>\n",
       "</table>\n",
       "<table class=\"simpletable\">\n",
       "<tr>\n",
       "    <td></td>       <th>coef</th>     <th>std err</th>      <th>z</th>      <th>P>|z|</th>  <th>[0.025</th>    <th>0.975]</th>  \n",
       "</tr>\n",
       "<tr>\n",
       "  <th>dmage</th> <td>    0.0041</td> <td>    0.007</td> <td>    0.586</td> <td> 0.558</td> <td>   -0.010</td> <td>    0.018</td>\n",
       "</tr>\n",
       "<tr>\n",
       "  <th>smoke</th> <td>    0.3769</td> <td>    0.100</td> <td>    3.776</td> <td> 0.000</td> <td>    0.181</td> <td>    0.573</td>\n",
       "</tr>\n",
       "<tr>\n",
       "  <th>male</th>  <td>    0.1715</td> <td>    0.074</td> <td>    2.311</td> <td> 0.021</td> <td>    0.026</td> <td>    0.317</td>\n",
       "</tr>\n",
       "<tr>\n",
       "  <th>anno</th>  <td>   -0.0110</td> <td>    0.017</td> <td>   -0.642</td> <td> 0.521</td> <td>   -0.045</td> <td>    0.023</td>\n",
       "</tr>\n",
       "<tr>\n",
       "  <th>int</th>   <td>   18.9895</td> <td>   34.236</td> <td>    0.555</td> <td> 0.579</td> <td>  -48.112</td> <td>   86.091</td>\n",
       "</tr>\n",
       "</table>"
      ],
      "text/plain": [
       "<class 'statsmodels.iolib.summary.Summary'>\n",
       "\"\"\"\n",
       "                           Logit Regression Results                           \n",
       "==============================================================================\n",
       "Dep. Variable:               anomalia   No. Observations:                13154\n",
       "Model:                          Logit   Df Residuals:                    13149\n",
       "Method:                           MLE   Df Model:                            4\n",
       "Date:                Mon, 22 Feb 2021   Pseudo R-squ.:                0.003252\n",
       "Time:                        10:00:16   Log-Likelihood:                -2953.2\n",
       "converged:                       True   LL-Null:                       -2962.8\n",
       "Covariance Type:            nonrobust   LLR p-value:                 0.0006962\n",
       "==============================================================================\n",
       "                 coef    std err          z      P>|z|      [0.025      0.975]\n",
       "------------------------------------------------------------------------------\n",
       "dmage          0.0041      0.007      0.586      0.558      -0.010       0.018\n",
       "smoke          0.3769      0.100      3.776      0.000       0.181       0.573\n",
       "male           0.1715      0.074      2.311      0.021       0.026       0.317\n",
       "anno          -0.0110      0.017     -0.642      0.521      -0.045       0.023\n",
       "int           18.9895     34.236      0.555      0.579     -48.112      86.091\n",
       "==============================================================================\n",
       "\"\"\""
      ]
     },
     "execution_count": 35,
     "metadata": {},
     "output_type": "execute_result"
    }
   ],
   "source": [
    "d2['int']=1\n",
    "x = ['dmage','smoke','male','anno','int']\n",
    "import statsmodels.api as sm \n",
    "mod = sm.Logit(d2['anomalia'], d2[x])\n",
    "risp = mod.fit()\n",
    "risp.summary() "
   ]
  },
  {
   "cell_type": "code",
   "execution_count": 38,
   "metadata": {},
   "outputs": [
    {
     "name": "stdout",
     "output_type": "stream",
     "text": [
      "Optimization terminated successfully.\n",
      "         Current function value: 0.224533\n",
      "         Iterations 7\n"
     ]
    },
    {
     "data": {
      "text/html": [
       "<table class=\"simpletable\">\n",
       "<caption>Logit Regression Results</caption>\n",
       "<tr>\n",
       "  <th>Dep. Variable:</th>       <td>anomalia</td>     <th>  No. Observations:  </th>  <td> 13154</td>  \n",
       "</tr>\n",
       "<tr>\n",
       "  <th>Model:</th>                 <td>Logit</td>      <th>  Df Residuals:      </th>  <td> 13151</td>  \n",
       "</tr>\n",
       "<tr>\n",
       "  <th>Method:</th>                 <td>MLE</td>       <th>  Df Model:          </th>  <td>     2</td>  \n",
       "</tr>\n",
       "<tr>\n",
       "  <th>Date:</th>            <td>Mon, 22 Feb 2021</td> <th>  Pseudo R-squ.:     </th> <td>0.003140</td> \n",
       "</tr>\n",
       "<tr>\n",
       "  <th>Time:</th>                <td>10:37:31</td>     <th>  Log-Likelihood:    </th> <td> -2953.5</td> \n",
       "</tr>\n",
       "<tr>\n",
       "  <th>converged:</th>             <td>True</td>       <th>  LL-Null:           </th> <td> -2962.8</td> \n",
       "</tr>\n",
       "<tr>\n",
       "  <th>Covariance Type:</th>     <td>nonrobust</td>    <th>  LLR p-value:       </th> <td>9.101e-05</td>\n",
       "</tr>\n",
       "</table>\n",
       "<table class=\"simpletable\">\n",
       "<tr>\n",
       "    <td></td>       <th>coef</th>     <th>std err</th>      <th>z</th>      <th>P>|z|</th>  <th>[0.025</th>    <th>0.975]</th>  \n",
       "</tr>\n",
       "<tr>\n",
       "  <th>smoke</th> <td>    0.3702</td> <td>    0.098</td> <td>    3.771</td> <td> 0.000</td> <td>    0.178</td> <td>    0.563</td>\n",
       "</tr>\n",
       "<tr>\n",
       "  <th>male</th>  <td>    0.1714</td> <td>    0.074</td> <td>    2.310</td> <td> 0.021</td> <td>    0.026</td> <td>    0.317</td>\n",
       "</tr>\n",
       "<tr>\n",
       "  <th>int</th>   <td>   -2.9088</td> <td>    0.057</td> <td>  -50.644</td> <td> 0.000</td> <td>   -3.021</td> <td>   -2.796</td>\n",
       "</tr>\n",
       "</table>"
      ],
      "text/plain": [
       "<class 'statsmodels.iolib.summary.Summary'>\n",
       "\"\"\"\n",
       "                           Logit Regression Results                           \n",
       "==============================================================================\n",
       "Dep. Variable:               anomalia   No. Observations:                13154\n",
       "Model:                          Logit   Df Residuals:                    13151\n",
       "Method:                           MLE   Df Model:                            2\n",
       "Date:                Mon, 22 Feb 2021   Pseudo R-squ.:                0.003140\n",
       "Time:                        10:37:31   Log-Likelihood:                -2953.5\n",
       "converged:                       True   LL-Null:                       -2962.8\n",
       "Covariance Type:            nonrobust   LLR p-value:                 9.101e-05\n",
       "==============================================================================\n",
       "                 coef    std err          z      P>|z|      [0.025      0.975]\n",
       "------------------------------------------------------------------------------\n",
       "smoke          0.3702      0.098      3.771      0.000       0.178       0.563\n",
       "male           0.1714      0.074      2.310      0.021       0.026       0.317\n",
       "int           -2.9088      0.057    -50.644      0.000      -3.021      -2.796\n",
       "==============================================================================\n",
       "\"\"\""
      ]
     },
     "execution_count": 38,
     "metadata": {},
     "output_type": "execute_result"
    }
   ],
   "source": [
    "x2 = ['smoke','male','int']\n",
    "mod2 = sm.Logit(d2['anomalia'], d2[x2])\n",
    "risp2 = mod2.fit()\n",
    "risp2.summary() "
   ]
  },
  {
   "cell_type": "code",
   "execution_count": null,
   "metadata": {},
   "outputs": [],
   "source": []
  },
  {
   "cell_type": "code",
   "execution_count": 45,
   "metadata": {},
   "outputs": [
    {
     "data": {
      "text/plain": [
       "0.051720258143858035"
      ]
     },
     "execution_count": 45,
     "metadata": {},
     "output_type": "execute_result"
    }
   ],
   "source": [
    "def y(int,smoke,male):\n",
    "    return -2.9088 + 0.3702*smoke + 0.1714*male\n",
    "y1= y(int, 0,0)\n",
    "numpy.exp(y1) / (1+numpy.exp(y1))"
   ]
  },
  {
   "cell_type": "code",
   "execution_count": 47,
   "metadata": {},
   "outputs": [
    {
     "data": {
      "text/plain": [
       "0.07319609048346322"
      ]
     },
     "execution_count": 47,
     "metadata": {},
     "output_type": "execute_result"
    }
   ],
   "source": [
    "y1= y(int, 1,0)\n",
    "numpy.exp(y1) / (1+numpy.exp(y1))"
   ]
  },
  {
   "cell_type": "code",
   "execution_count": 48,
   "metadata": {},
   "outputs": [
    {
     "data": {
      "text/plain": [
       "0.06080220765919033"
      ]
     },
     "execution_count": 48,
     "metadata": {},
     "output_type": "execute_result"
    }
   ],
   "source": [
    "y1= y(int, 0,1)\n",
    "numpy.exp(y1) / (1+numpy.exp(y1))"
   ]
  },
  {
   "cell_type": "code",
   "execution_count": 49,
   "metadata": {},
   "outputs": [
    {
     "data": {
      "text/plain": [
       "0.08570829974586928"
      ]
     },
     "execution_count": 49,
     "metadata": {},
     "output_type": "execute_result"
    }
   ],
   "source": [
    "y1= y(int, 1,1)\n",
    "numpy.exp(y1) / (1+numpy.exp(y1))"
   ]
  },
  {
   "cell_type": "code",
   "execution_count": null,
   "metadata": {},
   "outputs": [],
   "source": []
  }
 ],
 "metadata": {
  "kernelspec": {
   "display_name": "Python 3",
   "language": "python",
   "name": "python3"
  },
  "language_info": {
   "codemirror_mode": {
    "name": "ipython",
    "version": 3
   },
   "file_extension": ".py",
   "mimetype": "text/x-python",
   "name": "python",
   "nbconvert_exporter": "python",
   "pygments_lexer": "ipython3",
   "version": "3.8.5"
  }
 },
 "nbformat": 4,
 "nbformat_minor": 4
}
